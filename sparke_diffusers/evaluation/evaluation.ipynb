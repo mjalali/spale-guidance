{
 "cells": [
  {
   "cell_type": "code",
   "execution_count": 11,
   "id": "25acf217",
   "metadata": {},
   "outputs": [],
   "source": [
    "import numpy as np\n",
    "import torch\n",
    "from diffusers.evaluation.conditional_evaluation import ConditionalEvaluation"
   ]
  },
  {
   "cell_type": "code",
   "execution_count": 2,
   "id": "initial_id",
   "metadata": {
    "collapsed": true
   },
   "outputs": [],
   "source": [
    "\n",
    "latent_cond_rke_p = '/media/student/data/rke_guidance/dog_text_to_image_prompts_ambient_experiment/sdxl_cond-rke_0.02_5_20250513_2053_simga=(0.8, 0.6)/clip.npz'\n",
    "clip_cond_rke_p = '/media/student/data/rke_guidance/ambient_space_guidance/sdxl_dog_ambient/dog_text_to_image_prompts _sdxl__cond-rke_0.05_5.0-20250513T123551Z-1-001/dog_text_to_image_prompts _sdxl__cond-rke_0.05_5.0/clip.npz'\n",
    "\n",
    "l_cond_rke = np.load(latent_cond_rke_p)['clip_features'][:77]\n",
    "c_cond_rke = np.load(clip_cond_rke_p)['clip_features']"
   ]
  },
  {
   "cell_type": "code",
   "execution_count": 26,
   "id": "8bd216fd",
   "metadata": {},
   "outputs": [
    {
     "name": "stdout",
     "output_type": "stream",
     "text": [
      "tensor(4.4266, device='cuda:0', dtype=torch.float64)\n"
     ]
    }
   ],
   "source": [
    "eval_model = ConditionalEvaluation(sigma=(0, 0))\n",
    "\n",
    "print(torch.exp(eval_model.compute_entropy(l_cond_rke, 1, compute_kernel=True, algorithm='kernel', kernel='cosine', computation_method='vendi', top_k=None)))"
   ]
  },
  {
   "cell_type": "code",
   "execution_count": 24,
   "id": "b94213ad",
   "metadata": {},
   "outputs": [
    {
     "name": "stdout",
     "output_type": "stream",
     "text": [
      "tensor(5.3350, device='cuda:0', dtype=torch.float64)\n"
     ]
    }
   ],
   "source": [
    "print(torch.exp(eval_model.compute_entropy(c_cond_rke, 1, compute_kernel=True, algorithm='kernel', kernel='cosine', computation_method='vendi', top_k=None)))"
   ]
  },
  {
   "cell_type": "code",
   "execution_count": 27,
   "id": "1a7a48aa",
   "metadata": {},
   "outputs": [],
   "source": [
    "latent_cond_rke_p = '/media/student/data/rke_guidance/dog_text_to_image_prompts_ambient_experiment/sdxl_cond-rke_0.02_5_20250513_2053_simga=(0.8, 0.6)/dino.npz'\n",
    "clip_cond_rke_p = '/media/student/data/rke_guidance/ambient_space_guidance/sdxl_dog_ambient/dog_text_to_image_prompts _sdxl__cond-rke_0.05_5.0-20250513T123551Z-1-001/dog_text_to_image_prompts _sdxl__cond-rke_0.05_5.0/dino.npz'\n",
    "\n",
    "l_cond_rke = np.load(latent_cond_rke_p)['dino_features'][:77]\n",
    "c_cond_rke = np.load(clip_cond_rke_p)['dino_features']"
   ]
  },
  {
   "cell_type": "code",
   "execution_count": 28,
   "id": "a01d2562",
   "metadata": {},
   "outputs": [
    {
     "name": "stdout",
     "output_type": "stream",
     "text": [
      "tensor(25.2212, device='cuda:0', dtype=torch.float64)\n"
     ]
    }
   ],
   "source": [
    "print(torch.exp(eval_model.compute_entropy(l_cond_rke, 1, compute_kernel=True, algorithm='kernel', kernel='cosine', computation_method='vendi', top_k=None)))"
   ]
  },
  {
   "cell_type": "code",
   "execution_count": 29,
   "id": "387c3b57",
   "metadata": {},
   "outputs": [
    {
     "name": "stdout",
     "output_type": "stream",
     "text": [
      "tensor(13.3316, device='cuda:0', dtype=torch.float64)\n"
     ]
    }
   ],
   "source": [
    "print(torch.exp(eval_model.compute_entropy(c_cond_rke, 1, compute_kernel=True, algorithm='kernel', kernel='cosine', computation_method='vendi', top_k=None)))"
   ]
  },
  {
   "cell_type": "code",
   "execution_count": 39,
   "id": "98ebff0b",
   "metadata": {},
   "outputs": [],
   "source": [
    "import torch\n",
    "import torch.nn.functional as F\n",
    "from collections import defaultdict\n",
    "\n",
    "\n",
    "def compute_cluster_similarities(features: torch.Tensor, \n",
    "                               clusters: list) -> dict:\n",
    "    \"\"\"\n",
    "    Compute average pairwise similarity within each cluster.\n",
    "    \n",
    "    Args:\n",
    "        features: Tensor of shape (batch_size, feature_dim)\n",
    "        clusters: List of cluster IDs (length = batch_size)\n",
    "    \n",
    "    Returns:\n",
    "        Dictionary {cluster_id: average_similarity}\n",
    "    \"\"\"\n",
    "    # Input validation\n",
    "    assert len(features) == len(clusters), \"Features and clusters must have same length\"\n",
    "    if len(features) < 2:\n",
    "        return {}\n",
    "    \n",
    "    # Normalize features\n",
    "    features = F.normalize(features, p=2, dim=1)\n",
    "    \n",
    "    # Compute similarity matrix\n",
    "    sim_matrix = torch.mm(features, features.T)  # [batch_size, batch_size]\n",
    "    \n",
    "    # Calculate within-cluster similarities\n",
    "    results = defaultdict(list)\n",
    "    batch_size = len(clusters)\n",
    "    \n",
    "    for i in range(batch_size):\n",
    "        for j in range(i+1, batch_size):  # Upper triangle only\n",
    "            if clusters[i] == clusters[j]:\n",
    "                results[clusters[i]].append(sim_matrix[i,j].item())\n",
    "    \n",
    "    return {k: sum(v)/len(v) for k,v in results.items() if len(v) > 0}\n"
   ]
  },
  {
   "cell_type": "code",
   "execution_count": 47,
   "id": "e472d90b",
   "metadata": {},
   "outputs": [
    {
     "name": "stdout",
     "output_type": "stream",
     "text": [
      "In-batch similarity score: {0: 0.3766195814854997, 2: 0.7493791352297682, 3: 0.4886314957511692, 4: 0.5728345473833436, 5: 0.40428764183557914, 6: 0.600555954984211, 7: 0.3635234456415925, 8: 0.7444103819783254, 9: 0.7736855598994824, 10: 0.6217056887921234}\n"
     ]
    },
    {
     "data": {
      "text/plain": [
       "dict_values([0.3766195814854997, 0.7493791352297682, 0.4886314957511692, 0.5728345473833436, 0.40428764183557914, 0.600555954984211, 0.3635234456415925, 0.7444103819783254, 0.7736855598994824, 0.6217056887921234])"
      ]
     },
     "execution_count": 47,
     "metadata": {},
     "output_type": "execute_result"
    }
   ],
   "source": [
    "# Compute score (range [-1, 1], where 1 = identical features)\n",
    "\n",
    "clusters = [\n",
    "    # Cluster 0: Sitting dogs (no location context)\n",
    "    0, 0, 0, 0, 0, 0, 0, 0,\n",
    "    \n",
    "    # Cluster 1: Standing beside cherry blossom (East Asia)\n",
    "    1,\n",
    "    \n",
    "    # Cluster 2: Standing beside Gothic cathedral (Europe)\n",
    "    2, 2, 2, 2, 2, 2, 2, 2,\n",
    "    \n",
    "    # Cluster 3: Standing beside village hut (Kenya/Africa)\n",
    "    3, 3, 3, 3, 3, 3, 3, 3,\n",
    "    \n",
    "    # Cluster 4: Chasing birds (Europe streets)\n",
    "    4, 4, 4, 4, 4, 4, 4, 4,\n",
    "    \n",
    "    # Cluster 5: Chasing birds (Nile River/Africa)\n",
    "    5, 5, 5, 5, 5, 5, 5, 5,\n",
    "    \n",
    "    # Cluster 6: Guarding barn (America)\n",
    "    6, 6, 6, 6, 6, 6, 6, 6,\n",
    "    \n",
    "    # Cluster 7: Guarding livestock (Africa)\n",
    "    7, 7, 7, 7, 7, 7, 7, 7,\n",
    "    \n",
    "    # Cluster 8: Guarding palace (East Asia)\n",
    "    8, 8, 8, 8, 8, 8, 8, 8,\n",
    "    \n",
    "    # Cluster 9: Hiding in grass (Africa)\n",
    "    9, 9, 9, 9, 9, 9, 9, 9,\n",
    "    \n",
    "    # Cluster 10: Temple courtyard (East Asia)\n",
    "    10, 10, 10, 10\n",
    "]\n",
    "similarity_score = compute_cluster_similarities(torch.tensor(l_cond_rke), clusters)\n",
    "print(f\"In-batch similarity score: {similarity_score}\")\n",
    "similarity_score.values()"
   ]
  },
  {
   "cell_type": "code",
   "execution_count": 48,
   "id": "1ded63ef",
   "metadata": {},
   "outputs": [
    {
     "data": {
      "text/plain": [
       "0.5495838108612585"
      ]
     },
     "execution_count": 48,
     "metadata": {},
     "output_type": "execute_result"
    }
   ],
   "source": [
    "np.mean([0.3766195814854997, 0.4886314957511692, 0.5728345473833436, 0.40428764183557914, 0.600555954984211, 0.3635234456415925, 0.7444103819783254, 0.7736855598994824, 0.6217056887921234])"
   ]
  },
  {
   "cell_type": "code",
   "execution_count": 49,
   "id": "50329536",
   "metadata": {},
   "outputs": [
    {
     "name": "stdout",
     "output_type": "stream",
     "text": [
      "In-batch similarity score: {0: 0.8974452452676359, 2: 0.9311956053519819, 3: 0.7580989492752886, 4: 0.8922430134246893, 5: 0.8697051569943206, 6: 0.8509554957221214, 7: 0.8879562498082236, 8: 0.9564437232131068, 9: 0.7887484041511701, 10: 0.8514224023067491}\n"
     ]
    },
    {
     "data": {
      "text/plain": [
       "dict_values([0.8974452452676359, 0.9311956053519819, 0.7580989492752886, 0.8922430134246893, 0.8697051569943206, 0.8509554957221214, 0.8879562498082236, 0.9564437232131068, 0.7887484041511701, 0.8514224023067491])"
      ]
     },
     "execution_count": 49,
     "metadata": {},
     "output_type": "execute_result"
    }
   ],
   "source": [
    "similarity_score = compute_cluster_similarities(torch.tensor(c_cond_rke), clusters)\n",
    "print(f\"In-batch similarity score: {similarity_score}\")\n",
    "similarity_score.values()"
   ]
  },
  {
   "cell_type": "code",
   "execution_count": null,
   "id": "e773554f",
   "metadata": {},
   "outputs": [],
   "source": [
    "[0.8974452452676359, 0.7580989492752886, 0.8922430134246893, 0.8697051569943206, 0.8509554957221214, 0.8879562498082236, 0.9564437232131068, 0.7887484041511701, 0.8514224023067491]"
   ]
  }
 ],
 "metadata": {
  "kernelspec": {
   "display_name": "aist5020",
   "language": "python",
   "name": "python3"
  },
  "language_info": {
   "codemirror_mode": {
    "name": "ipython",
    "version": 3
   },
   "file_extension": ".py",
   "mimetype": "text/x-python",
   "name": "python",
   "nbconvert_exporter": "python",
   "pygments_lexer": "ipython3",
   "version": "3.9.19"
  }
 },
 "nbformat": 4,
 "nbformat_minor": 5
}
