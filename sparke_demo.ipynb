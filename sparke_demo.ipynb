{
 "cells": [
  {
   "cell_type": "code",
   "execution_count": 1,
   "metadata": {},
   "outputs": [
    {
     "name": "stdout",
     "output_type": "stream",
     "text": [
      "/home/student/Documents/evaluation/rke_guidance/sparke-diffusers/src\n"
     ]
    }
   ],
   "source": [
    "%cd src"
   ]
  },
  {
   "cell_type": "code",
   "execution_count": 1,
   "metadata": {},
   "outputs": [],
   "source": [
    "from diffusers import SPARKEGuidedStableDiffusionXLPipeline"
   ]
  },
  {
   "cell_type": "code",
   "execution_count": 4,
   "metadata": {},
   "outputs": [
    {
     "name": "stdout",
     "output_type": "stream",
     "text": [
      "/home/student/Documents/evaluation/rke_guidance/sparke-diffusers/sparke_diffusers\n"
     ]
    }
   ],
   "source": [
    "%cd sparke_diffusers"
   ]
  },
  {
   "cell_type": "code",
   "execution_count": 1,
   "metadata": {},
   "outputs": [
    {
     "name": "stdout",
     "output_type": "stream",
     "text": [
      "Obtaining file:///home/student/Documents/evaluation/rke_guidance/sparke-diffusers\n",
      "  Installing build dependencies ... \u001b[?25ldone\n",
      "\u001b[?25h  Checking if build backend supports build_editable ... \u001b[?25ldone\n",
      "\u001b[?25h  Getting requirements to build editable ... \u001b[?25ldone\n",
      "\u001b[?25h  Preparing editable metadata (pyproject.toml) ... \u001b[?25ldone\n",
      "\u001b[?25hRequirement already satisfied: importlib_metadata in /home/student/miniconda3/envs/aist5020/lib/python3.9/site-packages (from diffusers==0.33.0.dev0) (7.0.1)\n",
      "Requirement already satisfied: filelock in /home/student/miniconda3/envs/aist5020/lib/python3.9/site-packages (from diffusers==0.33.0.dev0) (3.13.1)\n",
      "Requirement already satisfied: huggingface-hub>=0.27.0 in /home/student/miniconda3/envs/aist5020/lib/python3.9/site-packages (from diffusers==0.33.0.dev0) (0.31.1)\n",
      "Requirement already satisfied: numpy in /home/student/miniconda3/envs/aist5020/lib/python3.9/site-packages (from diffusers==0.33.0.dev0) (1.26.4)\n",
      "Requirement already satisfied: regex!=2019.12.17 in /home/student/miniconda3/envs/aist5020/lib/python3.9/site-packages (from diffusers==0.33.0.dev0) (2023.10.3)\n",
      "Requirement already satisfied: requests in /home/student/miniconda3/envs/aist5020/lib/python3.9/site-packages (from diffusers==0.33.0.dev0) (2.32.2)\n",
      "Requirement already satisfied: safetensors>=0.3.1 in /home/student/miniconda3/envs/aist5020/lib/python3.9/site-packages (from diffusers==0.33.0.dev0) (0.5.2)\n",
      "Requirement already satisfied: Pillow in /home/student/miniconda3/envs/aist5020/lib/python3.9/site-packages (from diffusers==0.33.0.dev0) (10.3.0)\n",
      "Requirement already satisfied: fsspec>=2023.5.0 in /home/student/miniconda3/envs/aist5020/lib/python3.9/site-packages (from huggingface-hub>=0.27.0->diffusers==0.33.0.dev0) (2023.10.0)\n",
      "Requirement already satisfied: packaging>=20.9 in /home/student/miniconda3/envs/aist5020/lib/python3.9/site-packages (from huggingface-hub>=0.27.0->diffusers==0.33.0.dev0) (23.2)\n",
      "Requirement already satisfied: pyyaml>=5.1 in /home/student/miniconda3/envs/aist5020/lib/python3.9/site-packages (from huggingface-hub>=0.27.0->diffusers==0.33.0.dev0) (6.0.1)\n",
      "Requirement already satisfied: tqdm>=4.42.1 in /home/student/miniconda3/envs/aist5020/lib/python3.9/site-packages (from huggingface-hub>=0.27.0->diffusers==0.33.0.dev0) (4.66.4)\n",
      "Requirement already satisfied: typing-extensions>=3.7.4.3 in /home/student/miniconda3/envs/aist5020/lib/python3.9/site-packages (from huggingface-hub>=0.27.0->diffusers==0.33.0.dev0) (4.11.0)\n",
      "Requirement already satisfied: hf-xet<2.0.0,>=1.1.0 in /home/student/miniconda3/envs/aist5020/lib/python3.9/site-packages (from huggingface-hub>=0.27.0->diffusers==0.33.0.dev0) (1.1.0)\n",
      "Requirement already satisfied: zipp>=0.5 in /home/student/miniconda3/envs/aist5020/lib/python3.9/site-packages (from importlib_metadata->diffusers==0.33.0.dev0) (3.17.0)\n",
      "Requirement already satisfied: charset-normalizer<4,>=2 in /home/student/miniconda3/envs/aist5020/lib/python3.9/site-packages (from requests->diffusers==0.33.0.dev0) (2.0.4)\n",
      "Requirement already satisfied: idna<4,>=2.5 in /home/student/miniconda3/envs/aist5020/lib/python3.9/site-packages (from requests->diffusers==0.33.0.dev0) (3.7)\n",
      "Requirement already satisfied: urllib3<3,>=1.21.1 in /home/student/miniconda3/envs/aist5020/lib/python3.9/site-packages (from requests->diffusers==0.33.0.dev0) (1.26.19)\n",
      "Requirement already satisfied: certifi>=2017.4.17 in /home/student/miniconda3/envs/aist5020/lib/python3.9/site-packages (from requests->diffusers==0.33.0.dev0) (2024.6.2)\n",
      "Building wheels for collected packages: diffusers\n",
      "  Building editable for diffusers (pyproject.toml) ... \u001b[?25ldone\n",
      "\u001b[?25h  Created wheel for diffusers: filename=diffusers-0.33.0.dev0-0.editable-py3-none-any.whl size=8692 sha256=93723679d89520c9fe4db7a3a62c8e01a408b8ca14ce4d45b4b4b6a14ab78fd0\n",
      "  Stored in directory: /tmp/pip-ephem-wheel-cache-t4ad49h4/wheels/09/67/63/03196833542794d2fd26f1995fb2a0f64de40e3e84ec8e46bc\n",
      "Successfully built diffusers\n",
      "Installing collected packages: diffusers\n",
      "  Attempting uninstall: diffusers\n",
      "    Found existing installation: diffusers 0.33.0.dev0\n",
      "    Uninstalling diffusers-0.33.0.dev0:\n",
      "      Successfully uninstalled diffusers-0.33.0.dev0\n",
      "Successfully installed diffusers-0.33.0.dev0\n",
      "Note: you may need to restart the kernel to use updated packages.\n"
     ]
    }
   ],
   "source": [
    "pip install -e ."
   ]
  },
  {
   "cell_type": "code",
   "execution_count": 5,
   "metadata": {},
   "outputs": [],
   "source": [
    "import logging\n",
    "import clip\n",
    "\n",
    "from diffusers.pipelines.rke_guidance_utils import RKEGuidedSampling\n",
    "\n",
    "\n",
    "logging.basicConfig(\n",
    "    level=logging.INFO,  # or logging.DEBUG\n",
    "    format='[%(asctime)s] [%(levelname)s] %(message)s',\n",
    "    datefmt='%H:%M:%S'\n",
    ")\n",
    "logger = logging.getLogger(__name__)\n",
    "\n",
    "clip_for_guidance, pre_process_clip = clip.load(\"ViT-B/32\", device='cuda')"
   ]
  },
  {
   "cell_type": "markdown",
   "metadata": {},
   "source": [
    "# Stable Diffusion + SPARKE Diversity Guidance\n",
    "\n",
    "For sampling using SD-1.5 and SD-2.1 use the following code"
   ]
  },
  {
   "cell_type": "code",
   "execution_count": 3,
   "metadata": {},
   "outputs": [
    {
     "data": {
      "application/vnd.jupyter.widget-view+json": {
       "model_id": "4434c6cfb88944f6a53848b5844e2d15",
       "version_major": 2,
       "version_minor": 0
      },
      "text/plain": [
       "Loading pipeline components...:   0%|          | 0/6 [00:00<?, ?it/s]"
      ]
     },
     "metadata": {},
     "output_type": "display_data"
    }
   ],
   "source": [
    "from diffusers import SPARKEGuidedStableDiffusionPipeline\n",
    "import torch\n",
    "\n",
    "pipe = SPARKEGuidedStableDiffusionPipeline.from_pretrained(\n",
    "    \"/media/student/data/models/SD2.1/stable-diffusion-2-1/\",  # Replace with your actual model path\n",
    "    torch_dtype=torch.float16,\n",
    ").to(\"cuda\")"
   ]
  },
  {
   "cell_type": "code",
   "execution_count": 11,
   "metadata": {},
   "outputs": [],
   "source": [
    "rke_guided_sampler = RKEGuidedSampling(\n",
    "    algorithm=\"cond-rke\",\n",
    "    kernel=\"gaussian\",\n",
    "    sigma_image=0.6,\n",
    "    sigma_text=0.3,\n",
    "    max_bank_size=1000,\n",
    "    use_latents_for_guidance=True,\n",
    "    model_name=\"sdv2.1\",\n",
    "    model=pipe\n",
    ")"
   ]
  },
  {
   "cell_type": "code",
   "execution_count": 17,
   "metadata": {},
   "outputs": [
    {
     "data": {
      "application/vnd.jupyter.widget-view+json": {
       "model_id": "36251ffd62be4a5cb2c8744a7cd47265",
       "version_major": 2,
       "version_minor": 0
      },
      "text/plain": [
       "  0%|          | 0/51 [00:00<?, ?it/s]"
      ]
     },
     "metadata": {},
     "output_type": "display_data"
    },
    {
     "data": {
      "application/vnd.jupyter.widget-view+json": {
       "model_id": "01623c222173417aaabfa24d7d12356f",
       "version_major": 2,
       "version_minor": 0
      },
      "text/plain": [
       "  0%|          | 0/51 [00:00<?, ?it/s]"
      ]
     },
     "metadata": {},
     "output_type": "display_data"
    },
    {
     "data": {
      "application/vnd.jupyter.widget-view+json": {
       "model_id": "a06ea215898d40ecae7e48939020ee00",
       "version_major": 2,
       "version_minor": 0
      },
      "text/plain": [
       "  0%|          | 0/51 [00:00<?, ?it/s]"
      ]
     },
     "metadata": {},
     "output_type": "display_data"
    }
   ],
   "source": [
    "guidance_kwargs = dict(\n",
    "    guidance_scale=7.5,\n",
    "    criteria=\"vscore_clip\",\n",
    "    algorithm=\"vscore_clip\",\n",
    "    criteria_guidance_scale=0.02,\n",
    "    # use_latents_for_guidance=True,\n",
    "    # kernel=\"gaussian\",\n",
    "    # sigma_image=0.6,\n",
    "    # sigma_text=0.3,\n",
    "    guidance_freq=10,\n",
    "    F_M=None,\n",
    "    F_T=None,\n",
    "    F_M_real=None,\n",
    "    F_T_real=None,\n",
    "    beta=0,\n",
    "    regions_list=[],\n",
    "    return_kernels=False,\n",
    "    rke_guided_sampler=rke_guided_sampler,\n",
    "    logger_=logger,\n",
    "    clip_for_guidance=clip_for_guidance,\n",
    "    regularize=False,\n",
    "    regularize_weight=0,\n",
    ")\n",
    "\n",
    "prompts = [\n",
    "    \"A banana\",\n",
    "    \"A happy asian woman\",\n",
    "    \"A happy asian woman\",\n",
    "    # \"A futuristic cityscape at sunset\"\n",
    "    # \"A photorealistic portrait of an astronaut in space\",\n",
    "    # \"A cyberpunk street market at night with glowing signs\"\n",
    "]\n",
    "\n",
    "out = None\n",
    "# Generate and save images\n",
    "for i, prompt in enumerate(prompts):\n",
    "    out = pipe(\n",
    "        prompt=prompt + \"4K, realistic\",\n",
    "        negative_prompt=\"blurry, low-quality, distorted\",\n",
    "        generator=torch.Generator(device=\"cuda\").manual_seed(0),\n",
    "        num_inference_steps=51,\n",
    "        **guidance_kwargs\n",
    "    )\n",
    "    image = out[0][0]\n",
    "    image.save(f\"sparke_sdv2.1_output_{i}.png\")\n"
   ]
  },
  {
   "cell_type": "markdown",
   "metadata": {},
   "source": [
    "# Stable Diffusion XL + SPARKE Diversity Guidance"
   ]
  },
  {
   "cell_type": "code",
   "execution_count": 3,
   "metadata": {},
   "outputs": [
    {
     "data": {
      "application/vnd.jupyter.widget-view+json": {
       "model_id": "1b2a8eb2287d4e9e82782e4aa5635c3b",
       "version_major": 2,
       "version_minor": 0
      },
      "text/plain": [
       "Loading pipeline components...:   0%|          | 0/7 [00:00<?, ?it/s]"
      ]
     },
     "metadata": {},
     "output_type": "display_data"
    }
   ],
   "source": [
    "from diffusers import SPARKEGuidedStableDiffusionXLPipeline\n",
    "import torch\n",
    "\n",
    "\n",
    "pipe = SPARKEGuidedStableDiffusionXLPipeline.from_pretrained(\n",
    "    \"/media/student/data/models/SDXL.1/stable-diffusion-xl-base-1.0/\",  # Replace with your actual model path\n",
    "    torch_dtype=torch.float16,\n",
    ").to(\"cuda\")\n",
    "\n"
   ]
  },
  {
   "cell_type": "code",
   "execution_count": null,
   "metadata": {},
   "outputs": [],
   "source": []
  },
  {
   "cell_type": "code",
   "execution_count": 45,
   "metadata": {},
   "outputs": [],
   "source": [
    "rke_guided_sampler = RKEGuidedSampling(\n",
    "    algorithm=\"cond-rke\",\n",
    "    kernel=\"gaussian\",\n",
    "    sigma_image=0.6,\n",
    "    sigma_text=0.3,\n",
    "    max_bank_size=1000,\n",
    "    use_latents_for_guidance=True,\n",
    "    model_name=\"sdxl\",\n",
    "    model=pipe\n",
    ")"
   ]
  },
  {
   "cell_type": "code",
   "execution_count": null,
   "metadata": {},
   "outputs": [
    {
     "data": {
      "application/vnd.jupyter.widget-view+json": {
       "model_id": "e25ef967b2d445cf8be2d8cbb7b043f0",
       "version_major": 2,
       "version_minor": 0
      },
      "text/plain": [
       "  0%|          | 0/51 [00:00<?, ?it/s]"
      ]
     },
     "metadata": {},
     "output_type": "display_data"
    },
    {
     "data": {
      "application/vnd.jupyter.widget-view+json": {
       "model_id": "001c354398c641479b8e3834e75456af",
       "version_major": 2,
       "version_minor": 0
      },
      "text/plain": [
       "  0%|          | 0/51 [00:00<?, ?it/s]"
      ]
     },
     "metadata": {},
     "output_type": "display_data"
    },
    {
     "data": {
      "application/vnd.jupyter.widget-view+json": {
       "model_id": "876d59f05ffb43c3855c299d88470fad",
       "version_major": 2,
       "version_minor": 0
      },
      "text/plain": [
       "  0%|          | 0/51 [00:00<?, ?it/s]"
      ]
     },
     "metadata": {},
     "output_type": "display_data"
    }
   ],
   "source": [
    "guidance_kwargs = dict(\n",
    "    guidance_scale=7.5,\n",
    "    criteria=\"vscore_clip\",\n",
    "    algorithm=\"vscore_clip\",\n",
    "    criteria_guidance_scale=0.025,\n",
    "    use_latents_for_guidance=True,\n",
    "    kernel=\"gaussian\",\n",
    "    # sigma_image=0.6,\n",
    "    # sigma_text=0.3,\n",
    "    guidance_freq=10,\n",
    "    F_M=None,\n",
    "    F_T=None,\n",
    "    F_M_real=None,\n",
    "    F_T_real=None,\n",
    "    beta=0,\n",
    "    regions_list=[],\n",
    "    return_kernels=False,\n",
    "    rke_guided_sampler=rke_guided_sampler,\n",
    "    logger_=logger,\n",
    "    clip_for_guidance=clip_for_guidance,\n",
    "    regularize=False,\n",
    "    regularize_weight=0,\n",
    ")\n",
    "\n",
    "prompts = [\n",
    "    \"A happy asian woman\",\n",
    "    \"A happy asian woman\",\n",
    "    \"A happy asian woman\",\n",
    "    # \"A futuristic cityscape at sunset\"\n",
    "    # \"A photorealistic portrait of an astronaut in space\",\n",
    "    # \"A cyberpunk street market at night with glowing signs\"\n",
    "]\n",
    "\n",
    "out = None\n",
    "# Generate and save images\n",
    "for i, prompt in enumerate(prompts):\n",
    "    out = pipe(\n",
    "        prompt=prompt + \"4K, realistic\",\n",
    "        negative_prompt=\"blurry, low-quality, distorted\",\n",
    "        generator=torch.Generator(device=\"cuda\").manual_seed(0),\n",
    "        num_inference_steps=51,\n",
    "        **guidance_kwargs\n",
    "    )\n",
    "    image = out[0][0]\n",
    "    image.save(f\"sparke_output_{i}.png\")\n"
   ]
  },
  {
   "cell_type": "markdown",
   "metadata": {},
   "source": [
    "# PixArt-$\\Sigma$ + SPARKE Diversity Guidance"
   ]
  },
  {
   "cell_type": "code",
   "execution_count": 1,
   "metadata": {},
   "outputs": [],
   "source": [
    "from diffusers import SPARKEGuidedPixArtSigmaPipeline"
   ]
  },
  {
   "cell_type": "code",
   "execution_count": null,
   "metadata": {},
   "outputs": [],
   "source": []
  }
 ],
 "metadata": {
  "kernelspec": {
   "display_name": "aist5020",
   "language": "python",
   "name": "python3"
  },
  "language_info": {
   "codemirror_mode": {
    "name": "ipython",
    "version": 3
   },
   "file_extension": ".py",
   "mimetype": "text/x-python",
   "name": "python",
   "nbconvert_exporter": "python",
   "pygments_lexer": "ipython3",
   "version": "3.9.19"
  }
 },
 "nbformat": 4,
 "nbformat_minor": 2
}
